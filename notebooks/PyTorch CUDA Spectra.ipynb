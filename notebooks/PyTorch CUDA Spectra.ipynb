{
 "cells": [
  {
   "cell_type": "code",
   "execution_count": 15,
   "metadata": {},
   "outputs": [],
   "source": [
    "import torch\n",
    "import torchaudio\n",
    "import soundfile as sf\n",
    "import time\n",
    "from python_speech_features import mfcc"
   ]
  },
  {
   "cell_type": "code",
   "execution_count": 4,
   "metadata": {},
   "outputs": [
    {
     "data": {
      "text/plain": [
       "True"
      ]
     },
     "execution_count": 4,
     "metadata": {},
     "output_type": "execute_result"
    }
   ],
   "source": [
    "torch.cuda.is_available()"
   ]
  },
  {
   "cell_type": "code",
   "execution_count": 17,
   "metadata": {},
   "outputs": [],
   "source": [
    "wav_file = '../piece_20_32k.wav'"
   ]
  },
  {
   "cell_type": "code",
   "execution_count": 37,
   "metadata": {},
   "outputs": [
    {
     "data": {
      "text/plain": [
       "(array([-0.00817871, -0.01330566, -0.02008057, ..., -0.0005188 ,\n",
       "        -0.0005188 , -0.00048828]),\n",
       " 32000,\n",
       " tensor([[-0.0082, -0.0133, -0.0201,  ..., -0.0005, -0.0005, -0.0005]]),\n",
       " (785077,),\n",
       " torch.Size([1, 785077]))"
      ]
     },
     "execution_count": 37,
     "metadata": {},
     "output_type": "execute_result"
    }
   ],
   "source": [
    "nwav, sr = sf.read(wav_file)\n",
    "wav, sr = torchaudio.load(wav_file)\n",
    "nwav, sr, wav, nwav.shape, wav.shape"
   ]
  },
  {
   "cell_type": "code",
   "execution_count": 48,
   "metadata": {},
   "outputs": [
    {
     "data": {
      "text/plain": [
       "(torch.Size([2451, 13]), (2452, 13))"
      ]
     },
     "execution_count": 48,
     "metadata": {},
     "output_type": "execute_result"
    }
   ],
   "source": [
    "kmfcc = torchaudio.transforms.kaldi.mfcc(wav, sample_frequency=sr, use_energy=False, dither=0, window_type='hamming')\n",
    "pmfcc = mfcc(nwav, sr, nfft=1024)\n",
    "kmfcc.shape, pmfcc.shape"
   ]
  },
  {
   "cell_type": "code",
   "execution_count": 56,
   "metadata": {},
   "outputs": [
    {
     "name": "stdout",
     "output_type": "stream",
     "text": [
      "0.16879959106445314\n"
     ]
    }
   ],
   "source": [
    "n = 10\n",
    "s = time.time()\n",
    "for i in range(10):\n",
    "    kmfcc = torchaudio.transforms.kaldi.mfcc(wav, sample_frequency=sr, use_energy=False, dither=0, window_type='hamming')\n",
    "e = time.time()\n",
    "print((e-s)/n)"
   ]
  },
  {
   "cell_type": "code",
   "execution_count": 54,
   "metadata": {},
   "outputs": [
    {
     "name": "stdout",
     "output_type": "stream",
     "text": [
      "0.2652395725250244\n"
     ]
    }
   ],
   "source": [
    "s = time.time()\n",
    "for i in range(10):\n",
    "    pmfcc = mfcc(nwav, sr, nfft=1024)\n",
    "e = time.time()\n",
    "print((e-s)/n)"
   ]
  },
  {
   "cell_type": "code",
   "execution_count": null,
   "metadata": {},
   "outputs": [],
   "source": []
  }
 ],
 "metadata": {
  "kernelspec": {
   "display_name": "Python 3",
   "language": "python",
   "name": "python3"
  },
  "language_info": {
   "codemirror_mode": {
    "name": "ipython",
    "version": 3
   },
   "file_extension": ".py",
   "mimetype": "text/x-python",
   "name": "python",
   "nbconvert_exporter": "python",
   "pygments_lexer": "ipython3",
   "version": "3.7.7"
  }
 },
 "nbformat": 4,
 "nbformat_minor": 4
}
